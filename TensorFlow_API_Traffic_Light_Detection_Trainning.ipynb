{
  "nbformat": 4,
  "nbformat_minor": 0,
  "metadata": {
    "colab": {
      "name": "TensorFlow API - Traffic Light Detection - Trainning.ipynb",
      "provenance": [],
      "private_outputs": true,
      "toc_visible": true
    },
    "kernelspec": {
      "name": "python3",
      "display_name": "Python 3"
    },
    "accelerator": "GPU"
  },
  "cells": [
    {
      "cell_type": "markdown",
      "metadata": {
        "id": "FAPTqqO2SNb6",
        "colab_type": "text"
      },
      "source": [
        "# Install all the dependencies:"
      ]
    },
    {
      "cell_type": "code",
      "metadata": {
        "id": "vu4-gI3mSHPa",
        "colab_type": "code",
        "colab": {}
      },
      "source": [
        "%%bash\n",
        "pip install --user Cython\n",
        "pip install --user contextlib2\n",
        "pip install --user pillow\n",
        "pip install --user lxml\n",
        "pip install --user jupyter\n",
        "pip install --user matplotlib\n",
        "Install the COCO "
      ],
      "execution_count": null,
      "outputs": []
    },
    {
      "cell_type": "markdown",
      "metadata": {
        "id": "KOZOTWA0S92z",
        "colab_type": "text"
      },
      "source": [
        "# Protobuf Installation/Compilation:"
      ]
    },
    {
      "cell_type": "code",
      "metadata": {
        "id": "OHMnZVC-ThAb",
        "colab_type": "code",
        "colab": {}
      },
      "source": [
        "%tensorflow_version 1.x\n",
        "import os\n",
        "%cd /content/models/research\n",
        "!protoc object_detection/protos/*.proto --python_out=.\n",
        "\n",
        "pwd = os.getcwd()\n",
        "os.environ['PYTHONPATH'] += f':{pwd}:{pwd}/slim'"
      ],
      "execution_count": null,
      "outputs": []
    },
    {
      "cell_type": "code",
      "metadata": {
        "id": "nWuc9U0bTsTW",
        "colab_type": "code",
        "colab": {}
      },
      "source": [
        "!./bin/protoc object_detection/protos/*.proto --python_out=. "
      ],
      "execution_count": null,
      "outputs": []
    },
    {
      "cell_type": "markdown",
      "metadata": {
        "id": "3XINCKkPshgz",
        "colab_type": "text"
      },
      "source": [
        "# Install the TensorFlow Object Detection API\n",
        "In order to use the TensorFlow Object Detection API, we need to clone it's GitHub Repo.\n",
        "\n",
        "### Dependencies\n",
        "Most of the dependencies required come preloaded in Google Colab. The only additional package we need to install is TensorFlow.js, which is used for converting our trained model to a model that is compatible for the web.\n",
        "\n",
        "### Protocol Buffers\n",
        "The TensorFlow Object Detection API relies on what are called `protocol buffers` (also known as `protobufs`). Protobufs are a language neutral way to describe information. That means you can write a protobuf once and then compile it to be used with other languages, like Python, Java or C.\n",
        "\n",
        "The `protoc` command used below is compiling all the protocol buffers in the `object_detection/protos` folder for Python.\n",
        "\n",
        "### Environment\n",
        "To use the object detection api we need to add it to our `PYTHONPATH` along with `slim` which contains code for training and evaluating several widely used Convolutional Neural Network (CNN) image classification models."
      ]
    },
    {
      "cell_type": "code",
      "metadata": {
        "id": "VZyk9qkzTyqv",
        "colab_type": "code",
        "colab": {}
      },
      "source": [
        "%tensorflow_version 1.x\n",
        "import os\n",
        "\n",
        "!cd /content\n",
        "!git clone --depth=1 https://github.com/tensorflow/models.git\n",
        "!pip install tf_slim\n",
        "!pip install --no-deps tensorflowjs==1.4.0\n",
        "\n",
        "%cd /content/models/research\n",
        "!protoc object_detection/protos/*.proto --python_out=.\n",
        "\n",
        "pwd = os.getcwd()\n",
        "os.environ['PYTHONPATH'] += f':{pwd}:{pwd}/slim'"
      ],
      "execution_count": null,
      "outputs": []
    },
    {
      "cell_type": "markdown",
      "metadata": {
        "id": "wS1ZDbJ660Wv",
        "colab_type": "text"
      },
      "source": [
        "# Test the setup\n",
        "If everything was set up properly and nothing went wrong, we should be able to run this command."
      ]
    },
    {
      "cell_type": "code",
      "metadata": {
        "id": "g_P04a0lT6DN",
        "colab_type": "code",
        "colab": {}
      },
      "source": [
        "%cd /content/models/research\n",
        "!python object_detection/builders/model_builder_tf1_test.py"
      ],
      "execution_count": null,
      "outputs": []
    },
    {
      "cell_type": "code",
      "metadata": {
        "id": "wX2Mc1OQaQA8",
        "colab_type": "code",
        "colab": {}
      },
      "source": [
        "%cd /content/models/research\n",
        "!python object_detection/builders/model_builder_test.py"
      ],
      "execution_count": null,
      "outputs": []
    },
    {
      "cell_type": "markdown",
      "metadata": {
        "id": "G-DHE8xTssqT",
        "colab_type": "text"
      },
      "source": [
        "# Mount Google Drive\n",
        "In order to use files from Google Drive we need to mount it to Colab.\n",
        "\n",
        "When running this command for the first time it will ask you to open a link to accept permissions. After doing so, it will give you an authorization code that you can copy and paste below to complete the mounting process."
      ]
    },
    {
      "cell_type": "code",
      "metadata": {
        "id": "4dLGbnXRUMdk",
        "colab_type": "code",
        "colab": {}
      },
      "source": [
        "GOOGLE_DRIVE_MOUNT    = '/content/drive'\n",
        "from google.colab import drive\n",
        "drive.mount(GOOGLE_DRIVE_MOUNT)"
      ],
      "execution_count": null,
      "outputs": []
    },
    {
      "cell_type": "code",
      "metadata": {
        "id": "g9uDf1gnUnSL",
        "colab_type": "code",
        "colab": {}
      },
      "source": [
        "%cd /content/"
      ],
      "execution_count": null,
      "outputs": []
    },
    {
      "cell_type": "markdown",
      "metadata": {
        "id": "UVYA4-seVbZs",
        "colab_type": "text"
      },
      "source": [
        "## Download Carla datasets:"
      ]
    },
    {
      "cell_type": "code",
      "metadata": {
        "id": "xCfCJWejVhI5",
        "colab_type": "code",
        "colab": {}
      },
      "source": [
        "!mkdir carla"
      ],
      "execution_count": null,
      "outputs": []
    },
    {
      "cell_type": "code",
      "metadata": {
        "id": "TOvvXSzoV-a7",
        "colab_type": "code",
        "colab": {}
      },
      "source": [
        "data_dir = \"/content/carla\""
      ],
      "execution_count": null,
      "outputs": []
    },
    {
      "cell_type": "code",
      "metadata": {
        "id": "Ru_whyH9WFnE",
        "colab_type": "code",
        "colab": {}
      },
      "source": [
        "\"https://drive.google.com/file/d/1JTHqWVmQBwdW2JdqLmhC1_LECbtcVBUW/view?usp=sharing\" "
      ],
      "execution_count": null,
      "outputs": []
    },
    {
      "cell_type": "code",
      "metadata": {
        "id": "3oOSoppgVWzi",
        "colab_type": "code",
        "colab": {}
      },
      "source": [
        "from pydrive.auth import GoogleAuth\n",
        "from pydrive.drive import GoogleDrive\n",
        "from google.colab import auth\n",
        "from oauth2client.client import GoogleCredentials\n",
        "auth.authenticate_user()\n",
        "gauth = GoogleAuth()\n",
        "gauth.credentials = GoogleCredentials.get_application_default()\n",
        "drive = GoogleDrive(gauth)"
      ],
      "execution_count": null,
      "outputs": []
    },
    {
      "cell_type": "code",
      "metadata": {
        "id": "TSBU__0KlNBJ",
        "colab_type": "code",
        "colab": {}
      },
      "source": [
        "file_id = \"1JTHqWVmQBwdW2JdqLmhC1_LECbtcVBUW\"\n",
        "# For example: \"1-sltCi9nCSQmA-xaBPutq6Yfl6YONC_H\" id of Tokenizer file\n",
        "downloaded = drive.CreateFile({'id': file_id})\n",
        "downloaded.GetContentFile(os.path.join(data_dir, 'carla.zip'))"
      ],
      "execution_count": null,
      "outputs": []
    },
    {
      "cell_type": "code",
      "metadata": {
        "id": "cjYwT8zcWlmO",
        "colab_type": "code",
        "colab": {}
      },
      "source": [
        "#Carla train record\n",
        "file_id = \"1cqCUTsAmUyhnsUN1YD10yKPpuskilBET\"\n",
        "downloaded = drive.CreateFile({'id': file_id})\n",
        "downloaded.GetContentFile(os.path.join(data_dir, 'carla_train.record'))"
      ],
      "execution_count": null,
      "outputs": []
    },
    {
      "cell_type": "code",
      "metadata": {
        "id": "RynK5YQaW6CJ",
        "colab_type": "code",
        "colab": {}
      },
      "source": [
        "#Carla eval record\n",
        "file_id = \"1e0GaqZluwK9M8Y0b8xX4ud1UIDykIqXK\"\n",
        "downloaded = drive.CreateFile({'id': file_id})\n",
        "downloaded.GetContentFile(os.path.join(data_dir, 'carla_eval.record'))"
      ],
      "execution_count": null,
      "outputs": []
    },
    {
      "cell_type": "code",
      "metadata": {
        "id": "eVFLjRkHlSGm",
        "colab_type": "code",
        "colab": {}
      },
      "source": [
        "%cd /content/carla/"
      ],
      "execution_count": null,
      "outputs": []
    },
    {
      "cell_type": "code",
      "metadata": {
        "id": "h2_QCddZXMVc",
        "colab_type": "code",
        "colab": {}
      },
      "source": [
        "data_dir = \"/content/simulator\""
      ],
      "execution_count": null,
      "outputs": []
    },
    {
      "cell_type": "code",
      "metadata": {
        "id": "hIvL1CO0Xi4t",
        "colab_type": "code",
        "colab": {}
      },
      "source": [
        "file_id = \"1ruA0BgesoblVuZTD9vCtbffp6Xu1wlUz\"\n",
        "downloaded = drive.CreateFile({'id': file_id})\n",
        "downloaded.GetContentFile(os.path.join(data_dir, 'simulator.zip'))\n",
        "\n",
        "file_id = \"1-glmsZA6CwjnsAJXtPJelMwLFNlNAK2V\"\n",
        "downloaded = drive.CreateFile({'id': file_id})\n",
        "downloaded.GetContentFile(os.path.join(data_dir, 'simulator_train.record'))\n",
        "\n",
        "file_id = \"14552KT0s9W34DIvi9dlGanCLPhra2_XB\"\n",
        "downloaded = drive.CreateFile({'id': file_id})\n",
        "downloaded.GetContentFile(os.path.join(data_dir, 'simulator_eval.record'))"
      ],
      "execution_count": null,
      "outputs": []
    },
    {
      "cell_type": "code",
      "metadata": {
        "id": "YYf5A14wf4Bg",
        "colab_type": "code",
        "colab": {}
      },
      "source": [
        "%cd /content/carla\n",
        "!unzip carla.zip"
      ],
      "execution_count": null,
      "outputs": []
    },
    {
      "cell_type": "code",
      "metadata": {
        "id": "srbrAYTvYMgT",
        "colab_type": "code",
        "colab": {}
      },
      "source": [
        "!wget https://raw.githubusercontent.com/marcomarasca/CarND-Traffic-Light-Detection/master/config/ssd_inception_v2.config"
      ],
      "execution_count": null,
      "outputs": []
    },
    {
      "cell_type": "code",
      "metadata": {
        "id": "Ry_HbrENZjh1",
        "colab_type": "code",
        "colab": {}
      },
      "source": [
        "%%bash\n",
        "cd /content/models\n",
        "wget http://download.tensorflow.org/models/object_detection/ssd_inception_v2_coco_2018_01_28.tar.gz\n",
        "tar -xzvf ssd_inception_v2_coco_2018_01_28.tar.gz\n",
        "cd .."
      ],
      "execution_count": null,
      "outputs": []
    },
    {
      "cell_type": "code",
      "metadata": {
        "id": "PjQiSrdVbiaM",
        "colab_type": "code",
        "colab": {}
      },
      "source": [
        "%cd /content/models/ssd_inception_v2_coco_2018_01_28\n",
        "!wget https://raw.githubusercontent.com/wzding/Electric_Eel_Capstone/master/script/tl_label_map.pbtxt"
      ],
      "execution_count": null,
      "outputs": []
    },
    {
      "cell_type": "code",
      "metadata": {
        "id": "1djRxn-DdzV5",
        "colab_type": "code",
        "colab": {}
      },
      "source": [
        "from google.colab import files\n",
        "%cd /content/models/ssd_inception_v2_coco_2018_01_28\n",
        "uploaded = files.upload()\n",
        "\n",
        "for fn in uploaded.keys():\n",
        "  print('User uploaded file \"{name}\" with length {length} bytes'.format(\n",
        "      name=fn, length=len(uploaded[fn])))"
      ],
      "execution_count": null,
      "outputs": []
    },
    {
      "cell_type": "code",
      "metadata": {
        "id": "cLQo1tG-a6W7",
        "colab_type": "code",
        "colab": {}
      },
      "source": [
        "%cd /content/models/research\n",
        "!python object_detection/model_main.py \\\n",
        "--pipeline_config_path=/content/models/ssd_inception_v2_coco_2018_01_28/ssd_inception_v2.config \\\n",
        "--model_dir=/content/models/ssd_inception_v2_coco_2018_01_28/model_dir \\\n",
        "--train_dir=/content/carla/carla/training \\\n",
        "--test_dir = /content/carla/carla/testing \\\n",
        "--num_train_steps=20000 \\\n",
        "--sample_1_of_n_eval_examples=1 \\\n",
        "--alsologtostderr"
      ],
      "execution_count": null,
      "outputs": []
    },
    {
      "cell_type": "code",
      "metadata": {
        "id": "_h9_QwBzgyde",
        "colab_type": "code",
        "colab": {}
      },
      "source": [
        "!cp \"/content/models/ssd_inception_v2_coco_2018_01_28\"  \"/content/drive/My Drive\""
      ],
      "execution_count": null,
      "outputs": []
    },
    {
      "cell_type": "code",
      "metadata": {
        "id": "HkD1vl36xzP_",
        "colab_type": "code",
        "colab": {}
      },
      "source": [
        ""
      ],
      "execution_count": null,
      "outputs": []
    }
  ]
}